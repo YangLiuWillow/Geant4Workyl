{
 "cells": [
  {
   "cell_type": "code",
   "execution_count": 1,
   "id": "fc0c0914-a7cb-495a-aa41-aac1c2395969",
   "metadata": {},
   "outputs": [
    {
     "name": "stdout",
     "output_type": "stream",
     "text": [
      "Welcome to JupyROOT 6.24/02\n"
     ]
    },
    {
     "name": "stderr",
     "output_type": "stream",
     "text": [
      "/tmp/ipykernel_25997/3272581815.py:22: MatplotlibDeprecationWarning: Support for setting the 'text.latex.preamble' or 'pgf.preamble' rcParam to a list of strings is deprecated since 3.3 and will be removed two minor releases later; set it to a single string instead.\n",
      "  mpl.rcParams['text.latex.preamble'] = [r'\\usepackage{amsmath}'] #for \\text command\n"
     ]
    }
   ],
   "source": [
    "import sys\n",
    "import ROOT\n",
    "import numpy as np\n",
    "from ROOT import TH1D,TF1, gRandom, gPad, gStyle, gSystem, gROOT\n",
    "import matplotlib as mpl\n",
    "import matplotlib.pyplot as plt\n",
    "from ROOT import TChain, TSelector, TTree\n",
    "import os\n",
    "\n",
    "import matplotlib.colors as mcolors\n",
    "import scipy\n",
    "from matplotlib.colors import LogNorm\n",
    "import pandas as pd\n",
    "import seaborn as sns\n",
    "%matplotlib inline\n",
    "import matplotlib.colors as colors\n",
    "\n",
    "mpl.rcParams['text.usetex'] = True\n",
    "mpl.rcParams['mathtext.rm'] = 'Times New Roman'\n",
    "mpl.rcParams['mathtext.it'] = 'Times New Roman:italic'\n",
    "mpl.rcParams['mathtext.bf'] = 'Times New Roman:bold'\n",
    "mpl.rcParams['text.latex.preamble'] = [r'\\usepackage{amsmath}'] #for \\text command\n",
    "\n",
    "mpl.rc('font', family='serif', size=12)\n",
    "mpl.rcParams['xtick.labelsize'] = 14\n",
    "mpl.rcParams['ytick.labelsize'] = 14\n",
    "mpl.rcParams['xtick.major.size'] = 5\n",
    "mpl.rcParams['ytick.major.size'] = 5\n",
    "\n",
    "mpl.rcParams['axes.titlesize'] = 18\n",
    "mpl.rcParams['axes.labelsize'] = 18\n",
    "# mpl.rc('font', size=16)\n",
    "mpl.rc('axes', titlesize=20)\n",
    "\n",
    "current_palette = sns.color_palette('colorblind', 10)\n",
    "import warnings\n",
    "warnings.filterwarnings(\"ignore\")"
   ]
  },
  {
   "cell_type": "code",
   "execution_count": 2,
   "id": "a96784e2-da37-4d7e-b365-a096010e9cf3",
   "metadata": {},
   "outputs": [
    {
     "name": "stdout",
     "output_type": "stream",
     "text": [
      "TFile**\t\t/home/jat89/Software/Geant4Work/muons/muonsInPanel_build/gamma.root\t\n",
      " TFile*\t\t/home/jat89/Software/Geant4Work/muons/muonsInPanel_build/gamma.root\t\n",
      "  KEY: TDirectoryFile\tntuple;1\tntuple\n"
     ]
    },
    {
     "name": "stderr",
     "output_type": "stream",
     "text": [
      "Warning in <TFile::Init>: no StreamerInfo found in /home/jat89/Software/Geant4Work/muons/muonsInPanel_build/gamma.root therefore preventing schema evolution when reading this file. The file was produced with version 4.00/00 of ROOT.\n"
     ]
    }
   ],
   "source": [
    "folder = \"/home/jat89/Software/Geant4Work/muons/muonsInPanel_build/\"\n",
    "file = ROOT.TFile(folder + \"gamma.root\", \"READ\")\n",
    "# file2 = ROOT.TFile(folder + \"muon_vertical.root\", \"READ\")\n",
    "\n",
    "file.ls()"
   ]
  },
  {
   "cell_type": "code",
   "execution_count": 3,
   "id": "8a9c6334-9b18-4f5c-92d9-72becc724afe",
   "metadata": {},
   "outputs": [
    {
     "data": {
      "text/plain": [
       "<cppyy.CPPOverload at 0x2ae38a5849d0>"
      ]
     },
     "execution_count": 3,
     "metadata": {},
     "output_type": "execute_result"
    },
    {
     "data": {
      "image/png": "[encoded data removed]",
      "text/plain": [
       "<IPython.core.display.Image object>"
      ]
     },
     "metadata": {},
     "output_type": "display_data"
    }
   ],
   "source": [
    "# gROOT.SetStyle(\"ATLAS\");\n",
    "h1 = file.Get(\"10\")\n",
    "c2 = ROOT.TCanvas(\"c2\", \"c2\", 700, 500)\n",
    "h1.Draw(\"\")\n",
    "c2.Draw()\n",
    "c2.Delete"
   ]
  },
  {
   "cell_type": "code",
   "execution_count": 4,
   "id": "76e09ab5-a202-4b47-8aa8-f98f9e065dc8",
   "metadata": {},
   "outputs": [
    {
     "name": "stdout",
     "output_type": "stream",
     "text": [
      "TDirectoryFile*\t\tntuple\tntuple\n",
      " KEY: TTree\tparTup;1\tPrimary Particle Tuple\n"
     ]
    }
   ],
   "source": [
    "a = file.Get(\"ntuple\")\n",
    "a2 = file2.Get(\"ntuple\")\n",
    "\n",
    "a.ls()"
   ]
  },
  {
   "cell_type": "code",
   "execution_count": 5,
   "id": "195456ee-24d1-49b3-8230-f043de57b480",
   "metadata": {},
   "outputs": [],
   "source": [
    "tree = a.Get(\"parTup\")\n",
    "tree2 = a2.Get(\"parTup\")"
   ]
  },
  {
   "cell_type": "code",
   "execution_count": 6,
   "id": "ce297ec2-4b2e-442b-931d-96f298348617",
   "metadata": {},
   "outputs": [],
   "source": [
    "energy = []\n",
    "for event in tree:\n",
    "    energy.append(event.Edeposited)\n",
    "    \n",
    "energy_vertical = []\n",
    "for event in tree2:\n",
    "    energy_vertical.append(event.Edeposited)"
   ]
  },
  {
   "cell_type": "code",
   "execution_count": 11,
   "id": "0d44b7b4-df75-4541-9e94-ccdb8040b0d7",
   "metadata": {},
   "outputs": [
    {
     "data": {
      "image/png": "[encoded data removed]",
      "text/plain": [
       "<Figure size 576x360 with 1 Axes>"
      ]
     },
     "metadata": {
      "needs_background": "light"
     },
     "output_type": "display_data"
    }
   ],
   "source": [
    "plt.figure(figsize = (8,5))\n",
    "plt.hist(energy, bins = 100, range = (0,40), histtype=\"step\", lw = 1.7, label = \"Horizontal panel\");\n",
    "plt.hist(energy_vertical, bins = 100, range = (0,40), histtype=\"step\", lw = 1.7, label = \"Vertical panel\");\n",
    "\n",
    "plt.yscale(\"log\")\n",
    "plt.xlabel(\"Deposited energy [MeV]\")\n",
    "plt.title(\"Flux of muons on panel (simulation)\")\n",
    "plt.grid(alpha = 0.3)\n",
    "plt.legend(fontsize = 14)\n",
    "# plt.axvline(5, c = \"red\")\n",
    "# plt.savefig(\"muonsPanel_verHorComparison.png\", dpi = 300)"
   ]
  },
  {
   "cell_type": "code",
   "execution_count": 4,
   "id": "f4f0bf69-a40e-4d08-8ce9-2ce7844f51e5",
   "metadata": {},
   "outputs": [
    {
     "ename": "TypeError",
     "evalue": "'TObject' object is not iterable",
     "output_type": "error",
     "traceback": [
      "\u001b[0;31m---------------------------------------------------------------------------\u001b[0m",
      "\u001b[0;31mTypeError\u001b[0m                                 Traceback (most recent call last)",
      "\u001b[0;32m/tmp/ipykernel_25997/1713562491.py\u001b[0m in \u001b[0;36m<module>\u001b[0;34m\u001b[0m\n\u001b[1;32m      2\u001b[0m \u001b[0mtree\u001b[0m \u001b[0;34m=\u001b[0m \u001b[0ma\u001b[0m\u001b[0;34m.\u001b[0m\u001b[0mGet\u001b[0m\u001b[0;34m(\u001b[0m\u001b[0;34m\"parTup\"\u001b[0m\u001b[0;34m)\u001b[0m\u001b[0;34m\u001b[0m\u001b[0;34m\u001b[0m\u001b[0m\n\u001b[1;32m      3\u001b[0m \u001b[0menergy\u001b[0m \u001b[0;34m=\u001b[0m \u001b[0;34m[\u001b[0m\u001b[0;34m]\u001b[0m\u001b[0;34m\u001b[0m\u001b[0;34m\u001b[0m\u001b[0m\n\u001b[0;32m----> 4\u001b[0;31m \u001b[0;32mfor\u001b[0m \u001b[0mevent\u001b[0m \u001b[0;32min\u001b[0m \u001b[0mtree\u001b[0m\u001b[0;34m:\u001b[0m\u001b[0;34m\u001b[0m\u001b[0;34m\u001b[0m\u001b[0m\n\u001b[0m\u001b[1;32m      5\u001b[0m     \u001b[0menergy\u001b[0m\u001b[0;34m.\u001b[0m\u001b[0mappend\u001b[0m\u001b[0;34m(\u001b[0m\u001b[0mevent\u001b[0m\u001b[0;34m.\u001b[0m\u001b[0mEdeposited\u001b[0m\u001b[0;34m)\u001b[0m\u001b[0;34m\u001b[0m\u001b[0;34m\u001b[0m\u001b[0m\n",
      "\u001b[0;31mTypeError\u001b[0m: 'TObject' object is not iterable"
     ]
    }
   ],
   "source": [
    "a = file.Get(\"ntuple\")\n",
    "tree = a.Get(\"parTup\")\n",
    "energy = []\n",
    "for event in tree:\n",
    "    energy.append(event.Edeposited)"
   ]
  },
  {
   "cell_type": "code",
   "execution_count": 5,
   "id": "ee924096-f532-45f6-a57f-481ef5044336",
   "metadata": {},
   "outputs": [
    {
     "name": "stdout",
     "output_type": "stream",
     "text": [
      "TDirectoryFile*\t\tntuple\tntuple\n"
     ]
    }
   ],
   "source": [
    "a.ls()"
   ]
  },
  {
   "cell_type": "code",
   "execution_count": null,
   "id": "9797974e-9ec4-4d70-96c7-661ddd669cb1",
   "metadata": {},
   "outputs": [],
   "source": []
  }
 ],
 "metadata": {
  "kernelspec": {
   "display_name": "Python 3 (ipykernel)",
   "language": "python",
   "name": "python3"
  },
  "language_info": {
   "codemirror_mode": {
    "name": "ipython",
    "version": 3
   },
   "file_extension": ".py",
   "mimetype": "text/x-python",
   "name": "python",
   "nbconvert_exporter": "python",
   "pygments_lexer": "ipython3",
   "version": "3.8.10"
  }
 },
 "nbformat": 4,
 "nbformat_minor": 5
}
