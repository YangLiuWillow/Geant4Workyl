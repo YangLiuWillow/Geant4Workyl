{
 "cells": [
  {
   "cell_type": "code",
   "execution_count": 1,
   "id": "892e9527-7617-4118-975c-34be165e04f6",
   "metadata": {},
   "outputs": [
    {
     "name": "stdout",
     "output_type": "stream",
     "text": [
      "Welcome to JupyROOT 6.24/02\n"
     ]
    },
    {
     "data": {
      "text/plain": [
       "True"
      ]
     },
     "execution_count": 1,
     "metadata": {},
     "output_type": "execute_result"
    }
   ],
   "source": [
    "import sys\n",
    "import ROOT\n",
    "import numpy as np\n",
    "from ROOT import TH1D,TF1, gRandom, gPad, gStyle, gSystem, gROOT\n",
    "import matplotlib as mpl\n",
    "import matplotlib.pyplot as plt\n",
    "from ROOT import TChain, TSelector, TTree\n",
    "import os\n",
    "import matplotlib.colors as mcolors\n",
    "import scipy\n",
    "from matplotlib.colors import LogNorm\n",
    "import pandas as pd\n",
    "import seaborn as sns\n",
    "%matplotlib inline\n",
    "import matplotlib.colors as colors\n",
    "ROOT.gInterpreter.Declare('#include \"/gpfs/loomis/home.grace/jat89/Software/MCMuFFIN-G4/MMG4-GODDeSS/G4BasicObjects/MMG4SensitiveDetectors/include/MMG4IonizationBranch.hh\"')\n",
    "ROOT.gInterpreter.Declare('#include \"/gpfs/loomis/home.grace/jat89/Software/MCMuFFIN-G4/MMG4-GODDeSS/G4BasicObjects/MMG4SensitiveDetectors/include/MMG4OpticsBranch.hh\"')\n"
   ]
  },
  {
   "cell_type": "code",
   "execution_count": 1,
   "id": "824891a8-b276-458a-b0b4-3e2e06cdef5b",
   "metadata": {},
   "outputs": [
    {
     "ename": "NameError",
     "evalue": "name 'mpl' is not defined",
     "output_type": "error",
     "traceback": [
      "\u001b[0;31m---------------------------------------------------------------------------\u001b[0m",
      "\u001b[0;31mNameError\u001b[0m                                 Traceback (most recent call last)",
      "\u001b[0;32m/tmp/ipykernel_9938/3131394101.py\u001b[0m in \u001b[0;36m<module>\u001b[0;34m\u001b[0m\n\u001b[0;32m----> 1\u001b[0;31m \u001b[0mmpl\u001b[0m\u001b[0;34m.\u001b[0m\u001b[0mrcParams\u001b[0m\u001b[0;34m[\u001b[0m\u001b[0;34m'text.usetex'\u001b[0m\u001b[0;34m]\u001b[0m \u001b[0;34m=\u001b[0m \u001b[0;32mTrue\u001b[0m\u001b[0;34m\u001b[0m\u001b[0;34m\u001b[0m\u001b[0m\n\u001b[0m\u001b[1;32m      2\u001b[0m \u001b[0mmpl\u001b[0m\u001b[0;34m.\u001b[0m\u001b[0mrcParams\u001b[0m\u001b[0;34m[\u001b[0m\u001b[0;34m'mathtext.rm'\u001b[0m\u001b[0;34m]\u001b[0m \u001b[0;34m=\u001b[0m \u001b[0;34m'Times New Roman'\u001b[0m\u001b[0;34m\u001b[0m\u001b[0;34m\u001b[0m\u001b[0m\n\u001b[1;32m      3\u001b[0m \u001b[0mmpl\u001b[0m\u001b[0;34m.\u001b[0m\u001b[0mrcParams\u001b[0m\u001b[0;34m[\u001b[0m\u001b[0;34m'mathtext.it'\u001b[0m\u001b[0;34m]\u001b[0m \u001b[0;34m=\u001b[0m \u001b[0;34m'Times New Roman:italic'\u001b[0m\u001b[0;34m\u001b[0m\u001b[0;34m\u001b[0m\u001b[0m\n\u001b[1;32m      4\u001b[0m \u001b[0mmpl\u001b[0m\u001b[0;34m.\u001b[0m\u001b[0mrcParams\u001b[0m\u001b[0;34m[\u001b[0m\u001b[0;34m'mathtext.bf'\u001b[0m\u001b[0;34m]\u001b[0m \u001b[0;34m=\u001b[0m \u001b[0;34m'Times New Roman:bold'\u001b[0m\u001b[0;34m\u001b[0m\u001b[0;34m\u001b[0m\u001b[0m\n\u001b[1;32m      5\u001b[0m \u001b[0mmpl\u001b[0m\u001b[0;34m.\u001b[0m\u001b[0mrcParams\u001b[0m\u001b[0;34m[\u001b[0m\u001b[0;34m'text.latex.preamble'\u001b[0m\u001b[0;34m]\u001b[0m \u001b[0;34m=\u001b[0m \u001b[0;34m[\u001b[0m\u001b[0;34mr'\\usepackage{amsmath}'\u001b[0m\u001b[0;34m]\u001b[0m \u001b[0;31m#for \\text command\u001b[0m\u001b[0;34m\u001b[0m\u001b[0;34m\u001b[0m\u001b[0m\n",
      "\u001b[0;31mNameError\u001b[0m: name 'mpl' is not defined"
     ]
    }
   ],
   "source": [
    "mpl.rcParams['text.usetex'] = True\n",
    "mpl.rcParams['mathtext.rm'] = 'Times New Roman'\n",
    "mpl.rcParams['mathtext.it'] = 'Times New Roman:italic'\n",
    "mpl.rcParams['mathtext.bf'] = 'Times New Roman:bold'\n",
    "mpl.rcParams['text.latex.preamble'] = [r'\\usepackage{amsmath}'] #for \\text command\n",
    "\n",
    "mpl.rc('font', family='serif', size=12)\n",
    "mpl.rcParams['xtick.labelsize'] = 14\n",
    "mpl.rcParams['ytick.labelsize'] = 14\n",
    "mpl.rcParams['xtick.major.size'] = 5\n",
    "mpl.rcParams['ytick.major.size'] = 5\n",
    "\n",
    "mpl.rcParams['axes.titlesize'] = 18\n",
    "mpl.rcParams['axes.labelsize'] = 18\n",
    "# mpl.rc('font', size=16)\n",
    "mpl.rc('axes', titlesize=20)\n",
    "\n",
    "current_palette = sns.color_palette('colorblind', 10)\n",
    "import warnings\n",
    "warnings.filterwarnings(\"ignore\")"
   ]
  },
  {
   "cell_type": "code",
   "execution_count": 2,
   "id": "d11df605-ce0e-4c86-a9e7-8acefa2503bc",
   "metadata": {},
   "outputs": [],
   "source": [
    "folder = \"/home/jat89/Software/MCMuFFIN-G4/scripts/heatmap/\""
   ]
  },
  {
   "cell_type": "code",
   "execution_count": 3,
   "id": "39ddacdd-db4d-4f0d-a90f-8b9a71d76546",
   "metadata": {},
   "outputs": [
    {
     "ename": "NameError",
     "evalue": "name 'ROOT' is not defined",
     "output_type": "error",
     "traceback": [
      "\u001b[0;31m---------------------------------------------------------------------------\u001b[0m",
      "\u001b[0;31mNameError\u001b[0m                                 Traceback (most recent call last)",
      "\u001b[0;32m/tmp/ipykernel_9938/3365908236.py\u001b[0m in \u001b[0;36m<module>\u001b[0;34m\u001b[0m\n\u001b[0;32m----> 1\u001b[0;31m \u001b[0mfile\u001b[0m \u001b[0;34m=\u001b[0m \u001b[0mROOT\u001b[0m\u001b[0;34m.\u001b[0m\u001b[0mTFile\u001b[0m\u001b[0;34m(\u001b[0m\u001b[0mfolder\u001b[0m \u001b[0;34m+\u001b[0m \u001b[0;34m\"hit_data.root\"\u001b[0m\u001b[0;34m,\u001b[0m \u001b[0;34m\"READ\"\u001b[0m\u001b[0;34m)\u001b[0m\u001b[0;34m\u001b[0m\u001b[0;34m\u001b[0m\u001b[0m\n\u001b[0m",
      "\u001b[0;31mNameError\u001b[0m: name 'ROOT' is not defined"
     ]
    }
   ],
   "source": [
    "file = ROOT.TFile(folder + \"hit_data.root\", \"READ\")"
   ]
  },
  {
   "cell_type": "code",
   "execution_count": 7,
   "id": "b711b9a9-aee6-46f6-bc66-c59ed5081e43",
   "metadata": {},
   "outputs": [
    {
     "name": "stdout",
     "output_type": "stream",
     "text": [
      "TFile**\t\t/home/jat89/Software/MCMuFFIN-G4/scripts/heatmap/hit_data.root\t\n",
      " TFile*\t\t/home/jat89/Software/MCMuFFIN-G4/scripts/heatmap/hit_data.root\t\n",
      "  KEY: TTree\thit_data;1\thit_data\n"
     ]
    }
   ],
   "source": [
    "file.ls()"
   ]
  },
  {
   "cell_type": "code",
   "execution_count": 8,
   "id": "78556d18-b1d6-4ce4-8662-dac49b55e72e",
   "metadata": {},
   "outputs": [
    {
     "name": "stdout",
     "output_type": "stream",
     "text": [
      "******************************************************************************\n",
      "*Tree    :hit_data  : hit_data                                               *\n",
      "*Entries :   105992 : Total =          851353 bytes  File  Size =     508666 *\n",
      "*        :          : Tree compression factor =   1.67                       *\n",
      "******************************************************************************\n",
      "*Br    0 :totalE_out : totalE_out/D                                          *\n",
      "*Entries :   105992 : Total  Size=     851000 bytes  File Size  =     507999 *\n",
      "*Baskets :       27 : Basket Size=      32000 bytes  Compression=   1.67     *\n",
      "*............................................................................*\n"
     ]
    }
   ],
   "source": [
    "tree = file.Get(\"hit_data\")\n",
    "tree.GetEntry(0)\n",
    "tree.Print()"
   ]
  },
  {
   "cell_type": "code",
   "execution_count": 9,
   "id": "c7ee2ca2-7505-484f-b635-9094fe974e9b",
   "metadata": {},
   "outputs": [
    {
     "name": "stdout",
     "output_type": "stream",
     "text": [
      "0.0\n"
     ]
    }
   ],
   "source": [
    "# tree.GetEntry(0)\n",
    "print((tree.totalE_out))"
   ]
  },
  {
   "cell_type": "code",
   "execution_count": 10,
   "id": "3569d2c5-860f-4abd-ba7a-cbd91f243316",
   "metadata": {},
   "outputs": [],
   "source": [
    "energy = []\n",
    "for event in tree:\n",
    "    energy.append(event.totalE_out)"
   ]
  },
  {
   "cell_type": "code",
   "execution_count": 17,
   "id": "1c02d081-cd24-44e1-9cf0-306060fda9ae",
   "metadata": {},
   "outputs": [
    {
     "data": {
      "image/png": "[encoded data removed]",
      "text/plain": [
       "<Figure size 432x288 with 1 Axes>"
      ]
     },
     "metadata": {
      "needs_background": "light"
     },
     "output_type": "display_data"
    }
   ],
   "source": [
    "plt.hist(energy, bins = 200, range = (0.1,6));\n",
    "plt.yscale('log')"
   ]
  },
  {
   "cell_type": "code",
   "execution_count": 18,
   "id": "36d12c80-3397-4529-9dc7-4138d902b772",
   "metadata": {},
   "outputs": [
    {
     "data": {
      "text/plain": [
       "105992"
      ]
     },
     "execution_count": 18,
     "metadata": {},
     "output_type": "execute_result"
    }
   ],
   "source": [
    "len(energy)"
   ]
  },
  {
   "cell_type": "code",
   "execution_count": null,
   "id": "0adf0833-6ff0-4ca8-8f9f-f6d3cd1433c3",
   "metadata": {},
   "outputs": [],
   "source": []
  }
 ],
 "metadata": {
  "kernelspec": {
   "display_name": "Python 3 (ipykernel)",
   "language": "python",
   "name": "python3"
  },
  "language_info": {
   "codemirror_mode": {
    "name": "ipython",
    "version": 3
   },
   "file_extension": ".py",
   "mimetype": "text/x-python",
   "name": "python",
   "nbconvert_exporter": "python",
   "pygments_lexer": "ipython3",
   "version": "3.8.10"
  }
 },
 "nbformat": 4,
 "nbformat_minor": 5
}
