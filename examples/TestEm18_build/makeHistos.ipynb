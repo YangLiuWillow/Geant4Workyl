{
 "cells": [
  {
   "cell_type": "code",
   "execution_count": 1,
   "id": "fc0c0914-a7cb-495a-aa41-aac1c2395969",
   "metadata": {},
   "outputs": [
    {
     "name": "stdout",
     "output_type": "stream",
     "text": [
      "Welcome to JupyROOT 6.24/02\n"
     ]
    },
    {
     "name": "stderr",
     "output_type": "stream",
     "text": [
      "/tmp/ipykernel_27280/3272581815.py:22: MatplotlibDeprecationWarning: Support for setting the 'text.latex.preamble' or 'pgf.preamble' rcParam to a list of strings is deprecated since 3.3 and will be removed two minor releases later; set it to a single string instead.\n",
      "  mpl.rcParams['text.latex.preamble'] = [r'\\usepackage{amsmath}'] #for \\text command\n"
     ]
    }
   ],
   "source": [
    "import sys\n",
    "import ROOT\n",
    "import numpy as np\n",
    "from ROOT import TH1D,TF1, gRandom, gPad, gStyle, gSystem, gROOT\n",
    "import matplotlib as mpl\n",
    "import matplotlib.pyplot as plt\n",
    "from ROOT import TChain, TSelector, TTree\n",
    "import os\n",
    "\n",
    "import matplotlib.colors as mcolors\n",
    "import scipy\n",
    "from matplotlib.colors import LogNorm\n",
    "import pandas as pd\n",
    "import seaborn as sns\n",
    "%matplotlib inline\n",
    "import matplotlib.colors as colors\n",
    "\n",
    "mpl.rcParams['text.usetex'] = True\n",
    "mpl.rcParams['mathtext.rm'] = 'Times New Roman'\n",
    "mpl.rcParams['mathtext.it'] = 'Times New Roman:italic'\n",
    "mpl.rcParams['mathtext.bf'] = 'Times New Roman:bold'\n",
    "mpl.rcParams['text.latex.preamble'] = [r'\\usepackage{amsmath}'] #for \\text command\n",
    "\n",
    "mpl.rc('font', family='serif', size=12)\n",
    "mpl.rcParams['xtick.labelsize'] = 14\n",
    "mpl.rcParams['ytick.labelsize'] = 14\n",
    "mpl.rcParams['xtick.major.size'] = 5\n",
    "mpl.rcParams['ytick.major.size'] = 5\n",
    "\n",
    "mpl.rcParams['axes.titlesize'] = 18\n",
    "mpl.rcParams['axes.labelsize'] = 18\n",
    "# mpl.rc('font', size=16)\n",
    "mpl.rc('axes', titlesize=20)\n",
    "\n",
    "current_palette = sns.color_palette('colorblind', 10)\n",
    "import warnings\n",
    "warnings.filterwarnings(\"ignore\")"
   ]
  },
  {
   "cell_type": "code",
   "execution_count": 21,
   "id": "a96784e2-da37-4d7e-b365-a096010e9cf3",
   "metadata": {},
   "outputs": [
    {
     "name": "stdout",
     "output_type": "stream",
     "text": [
      "TFile**\t\t/home/jat89/Software/Geant4Work/examples/TestEm18_build/muon.root\t\n",
      " TFile*\t\t/home/jat89/Software/Geant4Work/examples/TestEm18_build/muon.root\t\n",
      "  KEY: TDirectoryFile\tntuple;1\tntuple\n",
      "  KEY: TH1D\t0;1\tdummy\n",
      "  KEY: TH1D\t1;1\tstep size of primary track\n",
      "  KEY: TH1D\t2;1\tenergy continuously deposited along primary track\n",
      "  KEY: TH1D\t3;1\tenergy transfered to secondaries by ionisation\n",
      "  KEY: TH1D\t4;1\tenergy transfered to secondaries by Bremsstrahlung\n",
      "  KEY: TH1D\t5;1\tenergy transfered to secondaries by (e+,e-) production\n",
      "  KEY: TH1D\t6;1\ttotal energy transfered to secondaries\n",
      "  KEY: TH1D\t7;1\ttotal energy lost by primary track\n",
      "  KEY: TH1D\t8;1\ttotal energy lost by primary track from energy balance\n",
      "  KEY: TH1D\t9;1\tenergy continuously deposited along secondary tracks\n",
      "  KEY: TH1D\t10;1\ttotal energy deposited\n",
      "  KEY: TH1D\t11;1\tenergy spectrum of gamma\n",
      "  KEY: TH1D\t12;1\tenergy spectrum of e-\n",
      "  KEY: TH1D\t13;1\tenergy spectrum of e+\n",
      "  KEY: TH1D\t14;1\tdirection: phi\n",
      "  KEY: TH1D\t15;1\tdirection: costheta\n"
     ]
    }
   ],
   "source": [
    "folder = \"/home/jat89/Software/Geant4Work/examples/TestEm18_build/\"\n",
    "file = ROOT.TFile(folder + \"muon.root\", \"READ\")\n",
    "file.ls()"
   ]
  },
  {
   "cell_type": "code",
   "execution_count": 22,
   "id": "8a9c6334-9b18-4f5c-92d9-72becc724afe",
   "metadata": {},
   "outputs": [
    {
     "data": {
      "text/plain": [
       "<cppyy.CPPOverload at 0x2ad61f40db80>"
      ]
     },
     "execution_count": 22,
     "metadata": {},
     "output_type": "execute_result"
    },
    {
     "name": "stderr",
     "output_type": "stream",
     "text": [
      "Warning in <TCanvas::Constructor>: Deleting canvas with same name: c2\n"
     ]
    },
    {
     "data": {
      "image/png": "[encoded data removed]",
      "text/plain": [
       "<IPython.core.display.Image object>"
      ]
     },
     "metadata": {},
     "output_type": "display_data"
    }
   ],
   "source": [
    "# gROOT.SetStyle(\"ATLAS\");\n",
    "h1 = file.Get(\"15\")\n",
    "c2 = ROOT.TCanvas(\"c2\", \"c2\", 700, 500)\n",
    "h1.Draw(\"\")\n",
    "c2.Draw()\n",
    "c2.Delete"
   ]
  },
  {
   "cell_type": "code",
   "execution_count": 23,
   "id": "76e09ab5-a202-4b47-8aa8-f98f9e065dc8",
   "metadata": {},
   "outputs": [
    {
     "name": "stdout",
     "output_type": "stream",
     "text": [
      "TDirectoryFile*\t\tntuple\tntuple\n",
      " KEY: TTree\tparTup;1\tPrimary Particle Tuple\n"
     ]
    }
   ],
   "source": [
    "a = file.Get(\"ntuple\")\n",
    "a.ls()"
   ]
  },
  {
   "cell_type": "code",
   "execution_count": 24,
   "id": "195456ee-24d1-49b3-8230-f043de57b480",
   "metadata": {},
   "outputs": [],
   "source": [
    "tree = a.Get(\"parTup\")"
   ]
  },
  {
   "cell_type": "code",
   "execution_count": 25,
   "id": "ce297ec2-4b2e-442b-931d-96f298348617",
   "metadata": {},
   "outputs": [],
   "source": [
    "energy = []\n",
    "for event in tree:\n",
    "    energy.append(event.Edeposited)"
   ]
  },
  {
   "cell_type": "code",
   "execution_count": 28,
   "id": "0d44b7b4-df75-4541-9e94-ccdb8040b0d7",
   "metadata": {},
   "outputs": [
    {
     "data": {
      "text/plain": [
       "<matplotlib.lines.Line2D at 0x2ad62f665f40>"
      ]
     },
     "execution_count": 28,
     "metadata": {},
     "output_type": "execute_result"
    },
    {
     "data": {
      "image/png": "[encoded data removed]",
      "text/plain": [
       "<Figure size 432x288 with 1 Axes>"
      ]
     },
     "metadata": {
      "needs_background": "light"
     },
     "output_type": "display_data"
    }
   ],
   "source": [
    "plt.hist(energy, bins = 200, range = (1,200), histtype=\"step\", lw = 1.5);\n",
    "plt.yscale(\"log\")\n",
    "plt.xlabel(\"Deposited energy [MeV]\")\n",
    "plt.title(\"Isotropic flux of muons on a 1 m$^3$ target of water\")\n",
    "plt.grid(alpha = 0.3)\n",
    "plt.axvline(25, c = \"red\")"
   ]
  },
  {
   "cell_type": "code",
   "execution_count": null,
   "id": "bde3d613-a7f3-4af1-a239-b67878d0af95",
   "metadata": {},
   "outputs": [],
   "source": []
  },
  {
   "cell_type": "code",
   "execution_count": null,
   "id": "d86ccb76-7466-43c4-95b1-8783f7532f2b",
   "metadata": {},
   "outputs": [],
   "source": []
  }
 ],
 "metadata": {
  "kernelspec": {
   "display_name": "Python 3 (ipykernel)",
   "language": "python",
   "name": "python3"
  },
  "language_info": {
   "codemirror_mode": {
    "name": "ipython",
    "version": 3
   },
   "file_extension": ".py",
   "mimetype": "text/x-python",
   "name": "python",
   "nbconvert_exporter": "python",
   "pygments_lexer": "ipython3",
   "version": "3.8.10"
  }
 },
 "nbformat": 4,
 "nbformat_minor": 5
}
